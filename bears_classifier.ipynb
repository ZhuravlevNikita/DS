{
 "cells": [
  {
   "cell_type": "code",
   "execution_count": 46,
   "id": "9cb1ee1f-c98a-4f04-9483-e142ae4bcfaa",
   "metadata": {},
   "outputs": [],
   "source": [
    "# import torch\n",
    "# import fastbook\n",
    "# fastbook.setup_book()\n",
    "#from fastbook import *\n",
    "from fastai.vision.all import *\n",
    "import ipywidgets as widgets\n",
    "# from IPython.display import display, Javascript\n",
    "# from PIL import Image, ImageFile\n",
    "# from duckduckgo_search import DDGS\n",
    "# from fastcore.all import *\n",
    "# from fastdownload import download_url\n",
    "# from fastai.vision.utils import download_images, verify_images\n",
    "from fastai.vision.widgets import *"
   ]
  },
  {
   "cell_type": "code",
   "execution_count": 47,
   "id": "6ce2ca79-80a9-47d3-8620-0ca560dbc2d6",
   "metadata": {},
   "outputs": [],
   "source": [
    "#path = Path()\n",
    "#path.ls(file_exts='.pkl')"
   ]
  },
  {
   "cell_type": "code",
   "execution_count": 48,
   "id": "18697a65-5990-48aa-ad18-906f1ad228b7",
   "metadata": {},
   "outputs": [],
   "source": [
    "path = Path()\n",
    "learn_inf = load_learner(path/'export.pkl', cpu=True)"
   ]
  },
  {
   "cell_type": "code",
   "execution_count": 49,
   "id": "a03b6e9f-9f57-4b84-8901-b4b5f39567b2",
   "metadata": {},
   "outputs": [],
   "source": [
    "upl = widgets.FileUpload()\n",
    "out_pl = widgets.Output()\n",
    "lbl_pred = widgets.Label()\n",
    "btn_run = widgets.Button(description='Classify')"
   ]
  },
  {
   "cell_type": "code",
   "execution_count": 50,
   "id": "aa7a6e59-01c6-4ff9-a184-d66c37ae2fcd",
   "metadata": {},
   "outputs": [],
   "source": [
    "def on_click_classify(change):\n",
    "    img = PILImage.create(upl.data[-1]) #value[-1].content.tobytes()\n",
    "    out_pl.clear_output()\n",
    "    with out_pl: display(img.to_thumb(128))\n",
    "    pred, pred_idx, probs = learn_inf.predict(img)\n",
    "    lbl_pred.value = f'Prediction: {pred}, Probability: {probs[pred_idx]:.04f}'"
   ]
  },
  {
   "cell_type": "code",
   "execution_count": 51,
   "id": "093f3173-7cb1-46c9-bb7e-a698295f74b7",
   "metadata": {},
   "outputs": [],
   "source": [
    "btn_run.on_click(on_click_classify)"
   ]
  },
  {
   "cell_type": "code",
   "execution_count": 52,
   "id": "9d61b86e-5ee5-4a3c-9cb0-1ef670ceb2d2",
   "metadata": {},
   "outputs": [
    {
     "data": {
      "application/vnd.jupyter.widget-view+json": {
       "model_id": "489275b3292349d1a5af8b83a7fa9590",
       "version_major": 2,
       "version_minor": 0
      },
      "text/plain": [
       "VBox(children=(Label(value='Select your bear!'), FileUpload(value=(), description='Upload'), Button(descriptio…"
      ]
     },
     "execution_count": 52,
     "metadata": {},
     "output_type": "execute_result"
    }
   ],
   "source": [
    "vbd = VBox([widgets.Label('Select your bear!'),\n",
    "      upl, btn_run, out_pl, lbl_pred])\n",
    "vbd"
   ]
  },
  {
   "cell_type": "code",
   "execution_count": null,
   "id": "16ebde33-cdf6-43e0-a235-7b0c3ba4441d",
   "metadata": {},
   "outputs": [],
   "source": []
  }
 ],
 "metadata": {
  "kernelspec": {
   "display_name": "Python 3 (ipykernel)",
   "language": "python",
   "name": "python3"
  },
  "language_info": {
   "codemirror_mode": {
    "name": "ipython",
    "version": 3
   },
   "file_extension": ".py",
   "mimetype": "text/x-python",
   "name": "python",
   "nbconvert_exporter": "python",
   "pygments_lexer": "ipython3",
   "version": "3.11.5"
  }
 },
 "nbformat": 4,
 "nbformat_minor": 5
}
